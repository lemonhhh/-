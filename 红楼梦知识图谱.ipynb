{
 "cells": [
  {
   "cell_type": "code",
   "execution_count": 12,
   "metadata": {},
   "outputs": [],
   "source": [
    "from py2neo import Graph,Node,Relationship,NodeMatcher\n",
    "import py2neo\n",
    "import pandas as pd"
   ]
  },
  {
   "cell_type": "code",
   "execution_count": 10,
   "metadata": {},
   "outputs": [],
   "source": [
    "#连接到数据库\n",
    "#替换成自己的用户名和密码\n",
    "g=Graph('http://localhost:7474',user='neo4j',password='liumenghan0922')"
   ]
  },
  {
   "cell_type": "code",
   "execution_count": 13,
   "metadata": {},
   "outputs": [],
   "source": [
    "#读数据文件\n",
    "df = pd.read_csv(\"红楼梦人物关系.csv\")"
   ]
  },
  {
   "cell_type": "code",
   "execution_count": 23,
   "metadata": {},
   "outputs": [],
   "source": [
    "for i in range(len(df)):#遍历每一行\n",
    "    start_ode = Node(\"Person\",name=df['head'].iat[i])#起点\n",
    "    end_ode = Node(\"Person\",name=df['tail'].iat[i])#终点\n",
    "    relation = Relationship(start_node,df['label'].iat[i],end_node)#关系\n",
    "    g.merge(start_node,\"Person\",\"name\") #生成起点\n",
    "    g.merge(end_node,\"Person\",\"name\") #生成终点\n",
    "    g.merge(relation,\"Person\",\"name\") #关系\n",
    "    \n",
    "    "
   ]
  },
  {
   "cell_type": "code",
   "execution_count": null,
   "metadata": {},
   "outputs": [],
   "source": []
  }
 ],
 "metadata": {
  "kernelspec": {
   "display_name": "Python 3",
   "language": "python",
   "name": "python3"
  },
  "language_info": {
   "codemirror_mode": {
    "name": "ipython",
    "version": 3
   },
   "file_extension": ".py",
   "mimetype": "text/x-python",
   "name": "python",
   "nbconvert_exporter": "python",
   "pygments_lexer": "ipython3",
   "version": "3.8.3"
  }
 },
 "nbformat": 4,
 "nbformat_minor": 4
}
